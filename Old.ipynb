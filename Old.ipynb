{
 "cells": [
  {
   "cell_type": "code",
   "execution_count": 1,
   "id": "fc8ddaf6",
   "metadata": {},
   "outputs": [],
   "source": [
    "#import libraries\n",
    "import math\n",
    "import numpy as np\n",
    "import pandas as pd\n",
    "from sklearn.preprocessing import MinMaxScaler \n",
    "import matplotlib.pyplot as plt\n",
    "import tensorflow as tf\n",
    "from tensorflow import keras\n",
    "from tensorflow.keras import layers\n",
    "from yahoo_fin import stock_info"
   ]
  },
  {
   "cell_type": "code",
   "execution_count": 2,
   "id": "1de26fd0",
   "metadata": {},
   "outputs": [
    {
     "data": {
      "text/html": [
       "<div>\n",
       "<style scoped>\n",
       "    .dataframe tbody tr th:only-of-type {\n",
       "        vertical-align: middle;\n",
       "    }\n",
       "\n",
       "    .dataframe tbody tr th {\n",
       "        vertical-align: top;\n",
       "    }\n",
       "\n",
       "    .dataframe thead th {\n",
       "        text-align: right;\n",
       "    }\n",
       "</style>\n",
       "<table border=\"1\" class=\"dataframe\">\n",
       "  <thead>\n",
       "    <tr style=\"text-align: right;\">\n",
       "      <th></th>\n",
       "      <th>open</th>\n",
       "      <th>high</th>\n",
       "      <th>low</th>\n",
       "      <th>close</th>\n",
       "      <th>adjclose</th>\n",
       "      <th>volume</th>\n",
       "    </tr>\n",
       "  </thead>\n",
       "  <tbody>\n",
       "    <tr>\n",
       "      <th>2002-08-11</th>\n",
       "      <td>38.724998</td>\n",
       "      <td>40.387501</td>\n",
       "      <td>35.724998</td>\n",
       "      <td>36.375000</td>\n",
       "      <td>26.099295</td>\n",
       "      <td>2001184.0</td>\n",
       "    </tr>\n",
       "    <tr>\n",
       "      <th>2002-08-18</th>\n",
       "      <td>36.674999</td>\n",
       "      <td>43.625000</td>\n",
       "      <td>35.137501</td>\n",
       "      <td>42.299999</td>\n",
       "      <td>30.350506</td>\n",
       "      <td>18564720.0</td>\n",
       "    </tr>\n",
       "    <tr>\n",
       "      <th>2002-08-25</th>\n",
       "      <td>42.974998</td>\n",
       "      <td>45.125000</td>\n",
       "      <td>40.287498</td>\n",
       "      <td>44.049999</td>\n",
       "      <td>31.606155</td>\n",
       "      <td>12945024.0</td>\n",
       "    </tr>\n",
       "    <tr>\n",
       "      <th>2002-09-01</th>\n",
       "      <td>44.750000</td>\n",
       "      <td>45.974998</td>\n",
       "      <td>41.012501</td>\n",
       "      <td>41.474998</td>\n",
       "      <td>29.758566</td>\n",
       "      <td>6795040.0</td>\n",
       "    </tr>\n",
       "    <tr>\n",
       "      <th>2002-09-08</th>\n",
       "      <td>39.500000</td>\n",
       "      <td>43.224998</td>\n",
       "      <td>39.500000</td>\n",
       "      <td>40.987499</td>\n",
       "      <td>29.408785</td>\n",
       "      <td>2637016.0</td>\n",
       "    </tr>\n",
       "    <tr>\n",
       "      <th>...</th>\n",
       "      <td>...</td>\n",
       "      <td>...</td>\n",
       "      <td>...</td>\n",
       "      <td>...</td>\n",
       "      <td>...</td>\n",
       "      <td>...</td>\n",
       "    </tr>\n",
       "    <tr>\n",
       "      <th>2023-04-02</th>\n",
       "      <td>3224.949951</td>\n",
       "      <td>3264.350098</td>\n",
       "      <td>3173.750000</td>\n",
       "      <td>3220.699951</td>\n",
       "      <td>3220.699951</td>\n",
       "      <td>5880359.0</td>\n",
       "    </tr>\n",
       "    <tr>\n",
       "      <th>2023-04-09</th>\n",
       "      <td>3220.000000</td>\n",
       "      <td>3272.949951</td>\n",
       "      <td>3180.000000</td>\n",
       "      <td>3188.850098</td>\n",
       "      <td>3188.850098</td>\n",
       "      <td>11143763.0</td>\n",
       "    </tr>\n",
       "    <tr>\n",
       "      <th>2023-04-16</th>\n",
       "      <td>3134.100098</td>\n",
       "      <td>3164.449951</td>\n",
       "      <td>3070.250000</td>\n",
       "      <td>3160.850098</td>\n",
       "      <td>3160.850098</td>\n",
       "      <td>15769567.0</td>\n",
       "    </tr>\n",
       "    <tr>\n",
       "      <th>2023-04-23</th>\n",
       "      <td>3151.100098</td>\n",
       "      <td>3227.250000</td>\n",
       "      <td>3126.149902</td>\n",
       "      <td>3219.250000</td>\n",
       "      <td>3219.250000</td>\n",
       "      <td>11030553.0</td>\n",
       "    </tr>\n",
       "    <tr>\n",
       "      <th>2023-05-02</th>\n",
       "      <td>3235.000000</td>\n",
       "      <td>3235.000000</td>\n",
       "      <td>3210.000000</td>\n",
       "      <td>3219.399902</td>\n",
       "      <td>3219.399902</td>\n",
       "      <td>2320980.0</td>\n",
       "    </tr>\n",
       "  </tbody>\n",
       "</table>\n",
       "<p>1082 rows × 6 columns</p>\n",
       "</div>"
      ],
      "text/plain": [
       "                   open         high          low        close     adjclose  \\\n",
       "2002-08-11    38.724998    40.387501    35.724998    36.375000    26.099295   \n",
       "2002-08-18    36.674999    43.625000    35.137501    42.299999    30.350506   \n",
       "2002-08-25    42.974998    45.125000    40.287498    44.049999    31.606155   \n",
       "2002-09-01    44.750000    45.974998    41.012501    41.474998    29.758566   \n",
       "2002-09-08    39.500000    43.224998    39.500000    40.987499    29.408785   \n",
       "...                 ...          ...          ...          ...          ...   \n",
       "2023-04-02  3224.949951  3264.350098  3173.750000  3220.699951  3220.699951   \n",
       "2023-04-09  3220.000000  3272.949951  3180.000000  3188.850098  3188.850098   \n",
       "2023-04-16  3134.100098  3164.449951  3070.250000  3160.850098  3160.850098   \n",
       "2023-04-23  3151.100098  3227.250000  3126.149902  3219.250000  3219.250000   \n",
       "2023-05-02  3235.000000  3235.000000  3210.000000  3219.399902  3219.399902   \n",
       "\n",
       "                volume  \n",
       "2002-08-11   2001184.0  \n",
       "2002-08-18  18564720.0  \n",
       "2002-08-25  12945024.0  \n",
       "2002-09-01   6795040.0  \n",
       "2002-09-08   2637016.0  \n",
       "...                ...  \n",
       "2023-04-02   5880359.0  \n",
       "2023-04-09  11143763.0  \n",
       "2023-04-16  15769567.0  \n",
       "2023-04-23  11030553.0  \n",
       "2023-05-02   2320980.0  \n",
       "\n",
       "[1082 rows x 6 columns]"
      ]
     },
     "execution_count": 2,
     "metadata": {},
     "output_type": "execute_result"
    }
   ],
   "source": [
    "#Import data\n",
    "tcsweekly = stock_info.get_data(\"TCS.NS\", interval=\"1wk\")\n",
    "tcsweekly = tcsweekly.drop(['ticker'], axis=1)\n",
    "tcsweekly=tcsweekly.dropna() #Remove Null Values\n",
    "tcsweekly"
   ]
  },
  {
   "cell_type": "code",
   "execution_count": 3,
   "id": "0b062384",
   "metadata": {},
   "outputs": [
    {
     "data": {
      "image/png": "[encoded data removed]",
      "text/plain": [
       "<Figure size 1152x576 with 1 Axes>"
      ]
     },
     "metadata": {
      "needs_background": "light"
     },
     "output_type": "display_data"
    }
   ],
   "source": [
    "#Plot the graph\n",
    "plt.figure(figsize=(16,8))\n",
    "plt.plot(tcsweekly['close'])\n",
    "plt.title('TCS-Weekly')\n",
    "plt.xlabel('Date')\n",
    "plt.ylabel('Prices (Rs.)')\n",
    "plt.show()"
   ]
  },
  {
   "cell_type": "code",
   "execution_count": 4,
   "id": "b6ca2305",
   "metadata": {},
   "outputs": [
    {
     "name": "stdout",
     "output_type": "stream",
     "text": [
      "1082\n",
      "[36.375      42.29999924 44.04999924 41.47499847 40.98749924 39.09999847\n",
      " 38.47499847 37.51250076 38.21250153 38.8125    ]\n"
     ]
    }
   ],
   "source": [
    "#Take close price and it's value\n",
    "close_prices = tcsweekly['close'] \n",
    "values = close_prices.values\n",
    "\n",
    "#Print\n",
    "print(len(values))\n",
    "print(values[0:10])"
   ]
  },
  {
   "cell_type": "code",
   "execution_count": 5,
   "id": "374bc199",
   "metadata": {},
   "outputs": [
    {
     "name": "stdout",
     "output_type": "stream",
     "text": [
      "866\n"
     ]
    }
   ],
   "source": [
    "#take 80% of the data for training\n",
    "training_data_len = math.ceil(len(values)*0.8) \n",
    "print(training_data_len)"
   ]
  },
  {
   "cell_type": "code",
   "execution_count": 6,
   "id": "30f89989",
   "metadata": {},
   "outputs": [
    {
     "name": "stdout",
     "output_type": "stream",
     "text": [
      "[[0.        ]\n",
      " [0.00150695]\n",
      " [0.00195204]\n",
      " [0.00129712]\n",
      " [0.00117313]\n",
      " [0.00069307]\n",
      " [0.00053411]\n",
      " [0.00028931]\n",
      " [0.00046735]\n",
      " [0.00061995]]\n"
     ]
    }
   ],
   "source": [
    "#Scale the data for easy computation\n",
    "scaler = MinMaxScaler(feature_range=(0,1))\n",
    "scaled_data = scaler.fit_transform(values.reshape(-1,1))\n",
    "\n",
    "#Select training data from 0 to length\n",
    "train_data = scaled_data[0: training_data_len, :]\n",
    "\n",
    "#Print\n",
    "print(train_data[0:10])"
   ]
  },
  {
   "cell_type": "code",
   "execution_count": 8,
   "id": "ef0c9ad3",
   "metadata": {},
   "outputs": [
    {
     "name": "stdout",
     "output_type": "stream",
     "text": [
      "806\n",
      "806\n",
      "60\n",
      "60\n",
      "[[0.        ]\n",
      " [0.00150695]\n",
      " [0.00195204]\n",
      " [0.00129712]\n",
      " [0.00117313]\n",
      " [0.00069307]\n",
      " [0.00053411]\n",
      " [0.00028931]\n",
      " [0.00046735]\n",
      " [0.00061995]]\n"
     ]
    }
   ],
   "source": [
    "x_train = []\n",
    "y_train = []\n",
    "\n",
    "#Create a list of 60 values in a single input of x_train and then the take the 61st value in y\n",
    "#Here 60 is arbitrary and any other number can be taken\n",
    "for i in range(60, len(train_data)):\n",
    "    x_train.append(train_data[i-60:i, 0]) #Take 0-60 values of train_data for Predictor\n",
    "    y_train.append(train_data[i, 0]) #Take 61st value of train_data for Output\n",
    "    \n",
    "#Convert to Array and reshape the values\n",
    "x_train, y_train = np.array(x_train), np.array(y_train)\n",
    "x_train = np.reshape(x_train, (x_train.shape[0], x_train.shape[1], 1))\n",
    "\n",
    "#Print check some stuff\n",
    "print(len(x_train))\n",
    "print(len(y_train))\n",
    "print(len(x_train[0]))\n",
    "print(len(x_train[1]))\n",
    "print(x_train[0][0:10])"
   ]
  },
  {
   "cell_type": "code",
   "execution_count": 8,
   "id": "9ae7965b",
   "metadata": {},
   "outputs": [
    {
     "name": "stderr",
     "output_type": "stream",
     "text": [
      "2023-04-04 13:22:20.527705: I tensorflow/core/platform/cpu_feature_guard.cc:193] This TensorFlow binary is optimized with oneAPI Deep Neural Network Library (oneDNN) to use the following CPU instructions in performance-critical operations:  AVX2 FMA\n",
      "To enable them in other operations, rebuild TensorFlow with the appropriate compiler flags.\n"
     ]
    },
    {
     "name": "stdout",
     "output_type": "stream",
     "text": [
      "Model: \"sequential\"\n",
      "_________________________________________________________________\n",
      " Layer (type)                Output Shape              Param #   \n",
      "=================================================================\n",
      " lstm (LSTM)                 (None, 60, 100)           40800     \n",
      "                                                                 \n",
      " lstm_1 (LSTM)               (None, 100)               80400     \n",
      "                                                                 \n",
      " dense (Dense)               (None, 25)                2525      \n",
      "                                                                 \n",
      " dense_1 (Dense)             (None, 1)                 26        \n",
      "                                                                 \n",
      "=================================================================\n",
      "Total params: 123,751\n",
      "Trainable params: 123,751\n",
      "Non-trainable params: 0\n",
      "_________________________________________________________________\n",
      "Epoch 1/10\n",
      "17/17 [==============================] - 13s 247ms/step - loss: 0.0069\n",
      "Epoch 2/10\n",
      "17/17 [==============================] - 4s 241ms/step - loss: 7.1493e-04\n",
      "Epoch 3/10\n",
      "17/17 [==============================] - 3s 205ms/step - loss: 2.3988e-04\n",
      "Epoch 4/10\n",
      "17/17 [==============================] - 5s 276ms/step - loss: 2.0055e-04\n",
      "Epoch 5/10\n",
      "17/17 [==============================] - 5s 300ms/step - loss: 1.8452e-04\n",
      "Epoch 6/10\n",
      "17/17 [==============================] - 5s 271ms/step - loss: 2.0416e-04\n",
      "Epoch 7/10\n",
      "17/17 [==============================] - 5s 316ms/step - loss: 2.3757e-04\n",
      "Epoch 8/10\n",
      "17/17 [==============================] - 5s 308ms/step - loss: 1.8092e-04\n",
      "Epoch 9/10\n",
      "17/17 [==============================] - 7s 391ms/step - loss: 2.5998e-04\n",
      "Epoch 10/10\n",
      "17/17 [==============================] - 5s 291ms/step - loss: 1.7491e-04\n"
     ]
    },
    {
     "data": {
      "text/plain": [
       "<keras.callbacks.History at 0x159764a60>"
      ]
     },
     "execution_count": 8,
     "metadata": {},
     "output_type": "execute_result"
    }
   ],
   "source": [
    "#Define the model\n",
    "model = keras.Sequential()\n",
    "model.add(layers.LSTM(100, return_sequences=True, input_shape=(x_train.shape[1], 1)))\n",
    "model.add(layers.LSTM(100, return_sequences=False))\n",
    "model.add(layers.Dense(25))\n",
    "model.add(layers.Dense(1))\n",
    "model.summary()\n",
    "\n",
    "#Train the model\n",
    "model.compile(optimizer='adam', loss='mean_squared_error')\n",
    "model.fit(x_train, y_train, batch_size=50, epochs=10)"
   ]
  },
  {
   "cell_type": "code",
   "execution_count": 9,
   "id": "6e231dc5",
   "metadata": {},
   "outputs": [
    {
     "name": "stdout",
     "output_type": "stream",
     "text": [
      "60\n",
      "215\n",
      "215\n"
     ]
    },
    {
     "data": {
      "text/plain": [
       "60"
      ]
     },
     "execution_count": 9,
     "metadata": {},
     "output_type": "execute_result"
    }
   ],
   "source": [
    "#Scale the test data for prediction\n",
    "test_data = scaled_data[training_data_len-60: , : ] #\n",
    "\n",
    "x_test = []\n",
    "y_test = values[training_data_len:]\n",
    "\n",
    "for i in range(60, len(test_data)):\n",
    "    x_test.append(test_data[i-60:i, 0])\n",
    "\n",
    "x_test = np.array(x_test)\n",
    "x_test = np.reshape(x_test, (x_test.shape[0], x_test.shape[1], 1))\n",
    "\n",
    "#Print\n",
    "print(x_test.shape[1])\n",
    "print(len(x_test))\n",
    "print(len(y_test))\n",
    "len(x_test[0])"
   ]
  },
  {
   "cell_type": "code",
   "execution_count": 10,
   "id": "790e3643",
   "metadata": {},
   "outputs": [
    {
     "name": "stdout",
     "output_type": "stream",
     "text": [
      "7/7 [==============================] - 5s 66ms/step\n",
      "215\n",
      "[3356.756]\n"
     ]
    },
    {
     "data": {
      "text/plain": [
       "8.008347906068314"
      ]
     },
     "execution_count": 10,
     "metadata": {},
     "output_type": "execute_result"
    }
   ],
   "source": [
    "#Predict for the set of 60 values\n",
    "predictions_old = model.predict(x_test)\n",
    "predictions = scaler.inverse_transform(predictions_old)\n",
    "\n",
    "#Print\n",
    "print(len(predictions))\n",
    "print(predictions[-1])\n",
    "rmse = np.sqrt(np.mean(predictions - y_test)**2)\n",
    "rmse"
   ]
  },
  {
   "cell_type": "code",
   "execution_count": 11,
   "id": "ef3d5d37",
   "metadata": {},
   "outputs": [
    {
     "name": "stderr",
     "output_type": "stream",
     "text": [
      "/var/folders/_m/7wdfvnkn1871d5q_fgf9lqj00000gn/T/ipykernel_1148/2289823899.py:5: SettingWithCopyWarning: \n",
      "A value is trying to be set on a copy of a slice from a DataFrame.\n",
      "Try using .loc[row_indexer,col_indexer] = value instead\n",
      "\n",
      "See the caveats in the documentation: https://pandas.pydata.org/pandas-docs/stable/user_guide/indexing.html#returning-a-view-versus-a-copy\n",
      "  validation['Predictions'] = predictions\n"
     ]
    },
    {
     "data": {
      "image/png": "[encoded data removed]",
      "text/plain": [
       "<Figure size 1152x576 with 1 Axes>"
      ]
     },
     "metadata": {
      "needs_background": "light"
     },
     "output_type": "display_data"
    }
   ],
   "source": [
    "#Preprocess\n",
    "data = tcsweekly.filter(['close'])\n",
    "train = data[:training_data_len]\n",
    "validation = data[training_data_len:]\n",
    "validation['Predictions'] = predictions\n",
    "\n",
    "#Print the Graph\n",
    "plt.figure(figsize=(16,8))\n",
    "plt.title('Model')\n",
    "plt.xlabel('Date')\n",
    "plt.ylabel('Close Price')\n",
    "plt.plot(train)\n",
    "plt.plot(validation[['close', 'Predictions']])\n",
    "plt.legend(['Train', 'Val', 'Predictions'], loc='lower right')\n",
    "plt.show()"
   ]
  },
  {
   "cell_type": "code",
   "execution_count": null,
   "id": "205cd498",
   "metadata": {},
   "outputs": [],
   "source": [
    "import joblib\n",
    "joblib.dump(model, 'tcsdail_1.pkl')"
   ]
  },
  {
   "cell_type": "code",
   "execution_count": null,
   "id": "2dfb62de",
   "metadata": {},
   "outputs": [],
   "source": [
    "# Load the model from the file\n",
    "new = joblib.load('tcsdail_1.pkl')\n",
    "  \n",
    "# Use the loaded model to make predictions\n",
    "ans = new.predict(x_test)\n",
    "ans"
   ]
  },
  {
   "cell_type": "code",
   "execution_count": 13,
   "id": "3aaf2b8b",
   "metadata": {},
   "outputs": [
    {
     "name": "stdout",
     "output_type": "stream",
     "text": [
      "The accuracy of our model is 93.0%\n",
      "The Mean Absolute Error of our Model is 127.27\n",
      "The Root Mean Square Error of our Model is 164.88\n",
      "The accuracy of our model is 86.0%\n",
      "The Mean Absolute Error of our Model is 0.09\n",
      "The Root Mean Square Error of our Model is 0.1\n"
     ]
    }
   ],
   "source": [
    "result = predictions.flatten()\n",
    "\n",
    "#R2 Score\n",
    "from sklearn.metrics import r2_score\n",
    "score = r2_score(y_test, result)\n",
    "print(\"The accuracy of our model is {}%\".format(round(score, 2) *100))\n",
    "\n",
    "from sklearn.metrics import mean_absolute_error\n",
    "score_1 = mean_absolute_error(y_test, result)\n",
    "print(\"The Mean Absolute Error of our Model is {}\".format(round(score_1, 2)))\n",
    "\n",
    "from sklearn.metrics import mean_squared_error\n",
    "import numpy as np\n",
    "score_2 = np.sqrt(mean_squared_error(y_test, result))\n",
    "print(\"The Root Mean Square Error of our Model is {}\".format(round(score_2, 2)))\n",
    "\n",
    "new_result = scaler.fit_transform(result.reshape(-1,1))\n",
    "new_actual = scaler.fit_transform(y_test.reshape(-1,1))\n",
    "new_actual\n",
    "\n",
    "#R2 Score\n",
    "from sklearn.metrics import r2_score\n",
    "score = r2_score(new_actual, new_result)\n",
    "print(\"The accuracy of our model is {}%\".format(round(score, 2) *100))\n",
    "\n",
    "from sklearn.metrics import mean_absolute_error\n",
    "score_1 = mean_absolute_error(new_actual, new_result)\n",
    "print(\"The Mean Absolute Error of our Model is {}\".format(round(score_1, 2)))\n",
    "\n",
    "from sklearn.metrics import mean_squared_error\n",
    "import numpy as np\n",
    "score_2 = np.sqrt(mean_squared_error(new_actual, new_result))\n",
    "print(\"The Root Mean Square Error of our Model is {}\".format(round(score_2, 2)))"
   ]
  },
  {
   "cell_type": "code",
   "execution_count": null,
   "id": "8bcdbc7f",
   "metadata": {},
   "outputs": [],
   "source": []
  }
 ],
 "metadata": {
  "kernelspec": {
   "display_name": "Python 3 (ipykernel)",
   "language": "python",
   "name": "python3"
  },
  "language_info": {
   "codemirror_mode": {
    "name": "ipython",
    "version": 3
   },
   "file_extension": ".py",
   "mimetype": "text/x-python",
   "name": "python",
   "nbconvert_exporter": "python",
   "pygments_lexer": "ipython3",
   "version": "3.10.5"
  }
 },
 "nbformat": 4,
 "nbformat_minor": 5
}
